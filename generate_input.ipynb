{
 "cells": [
  {
   "cell_type": "code",
   "execution_count": 47,
   "id": "0c4e24ad-3230-4c92-8891-3422453ff71c",
   "metadata": {},
   "outputs": [],
   "source": [
    "from openai import OpenAI\n",
    "import os\n",
    "import base64\n",
    "import requests\n",
    "import pandas\n",
    "\n",
    "from dotenv import load_dotenv\n",
    "# Load API key\n",
    "_ = load_dotenv()"
   ]
  },
  {
   "cell_type": "code",
   "execution_count": 48,
   "id": "456a2d5c-11b3-4e92-8839-4489b21f80d9",
   "metadata": {},
   "outputs": [],
   "source": [
    "client = OpenAI()"
   ]
  },
  {
   "cell_type": "code",
   "execution_count": 49,
   "id": "417b77cd-a964-4ff1-bbc1-002b1185b4bb",
   "metadata": {},
   "outputs": [],
   "source": [
    "from pathlib import Path\n",
    "                               \n",
    "BASE = Path.cwd()                \n",
    "BASE.mkdir(parents=True, exist_ok=True)\n",
    "\n",
    "def save_df(df, name):\n",
    "    path = BASE / name\n",
    "    df.to_csv(path, index=False)\n",
    "    print(\"✅  Saved →\", path)"
   ]
  },
  {
   "cell_type": "code",
   "execution_count": 50,
   "id": "7ea60184-1ede-4e27-bf1e-6dcf9ed68296",
   "metadata": {},
   "outputs": [],
   "source": [
    "catalog = [\n",
    "    \"Eco Footwear\", \"Organic Apparel\", \"Digital Tablets\",\n",
    "    \"Stylus Accessories\", \"Ergonomic Furniture\", \"Wellness Gadgets\",\n",
    "    \"Smart Home\", \"Gaming Peripherals\", \"Travel Gear\", \"Pet Tech\"\n",
    "]\n",
    "\n",
    "offer_library = [f\"OFFER{str(i).zfill(2)}\" for i in range(1,11)]"
   ]
  },
  {
   "cell_type": "code",
   "execution_count": 44,
   "id": "e56c2b47-5b0e-4178-8d7e-fb62b963dc96",
   "metadata": {},
   "outputs": [
    {
     "name": "stdout",
     "output_type": "stream",
     "text": [
      "✅  Saved → /Commjhub/jupyterhub/home/jaasminew/comm4190_S25/comm4190_S25_Research_Paper/personalization_data.csv\n"
     ]
    }
   ],
   "source": [
    "import json\n",
    "\n",
    "def gpt_user_capsule():\n",
    "    prompt = (\n",
    "      \"Create one fictitious LinkedIn headline (role + industry) and three distinct liked tweets. \"\n",
    "      \"Also invent a 3‑step e‑commerce journey log (event_1, event_2, event_3), \"\n",
    "      \"a list of three dwell times (floats), and three sku IDs viewed. \"\n",
    "      \"Finally, pick TWO product categories that would interest this user \"\n",
    "      f\"from the catalog {catalog} and the single best offer ID from {offer_library}. \"\n",
    "      \"Return ONLY valid JSON with keys: linkedin_headline, liked_tweets, \"\n",
    "      \"event_1, event_2, event_3, dwell_times, sku_views, cat_gt_1, cat_gt_2, best_offer_id.\"\n",
    "    )\n",
    "    resp = client.chat.completions.create(\n",
    "        model=\"gpt-4o\",\n",
    "        messages=[{\"role\":\"user\",\"content\":prompt}],\n",
    "        temperature=0.7,\n",
    "        response_format={\"type\":\"json_object\"}  \n",
    "    )\n",
    "    # Parse the JSON string into a dictionary\n",
    "    return json.loads(resp.choices[0].message.content)\n",
    "\n",
    "rows = []\n",
    "for uid in range(1, 26):\n",
    "    data = gpt_user_capsule()  # Now returns a dictionary\n",
    "    data[\"user_id\"] = uid\n",
    "    rows.append(data)\n",
    "personalization_df = pd.json_normalize(rows)\n",
    "save_df(personalization_df, \"personalization_data.csv\")"
   ]
  },
  {
   "cell_type": "code",
   "execution_count": 46,
   "id": "f921b338-ed33-482e-ade6-addd072faf53",
   "metadata": {},
   "outputs": [
    {
     "name": "stdout",
     "output_type": "stream",
     "text": [
      "✅  Saved → /Commjhub/jupyterhub/home/jaasminew/comm4190_S25/comm4190_S25_Research_Paper/content_data.csv\n"
     ]
    }
   ],
   "source": [
    "prompt_tmpl = (\n",
    "  \"Create ONE campaign brief with keys: theme, value_prop (≤12 words), target_audience (≤8 words). \"\n",
    "  \"Also invent FIVE concise spec bullets and SIX SEO keywords (single or 2‑word phrases). \"\n",
    "  \"Return ONLY valid JSON with those fields.\"\n",
    ")\n",
    "\n",
    "# Create a function similar to your gpt_user_capsule function\n",
    "def gpt_campaign_brief():\n",
    "    resp = client.chat.completions.create(\n",
    "        model=\"gpt-4o-mini\",\n",
    "        messages=[{\"role\":\"user\",\"content\":prompt_tmpl}],\n",
    "        temperature=1.1,\n",
    "        response_format={\"type\":\"json_object\"}  \n",
    "    )\n",
    "    # Parse the JSON string into a dictionary\n",
    "    return json.loads(resp.choices[0].message.content)\n",
    "\n",
    "# Generate the data\n",
    "rows = []\n",
    "for cid in range(1, 11):\n",
    "    data = gpt_campaign_brief()\n",
    "    data[\"campaign_id\"] = cid\n",
    "    rows.append(data)\n",
    "\n",
    "# Create DataFrame and save\n",
    "content_df = pd.json_normalize(rows)\n",
    "save_df(content_df, \"content_data.csv\")"
   ]
  },
  {
   "cell_type": "code",
   "execution_count": null,
   "id": "c746ae29-6f3d-4bab-9c00-448f1d4a5c2a",
   "metadata": {},
   "outputs": [],
   "source": []
  }
 ],
 "metadata": {
  "kernelspec": {
   "display_name": "Python 3-12 (COMM4190)",
   "language": "python",
   "name": "python3-12_comm4190"
  },
  "language_info": {
   "codemirror_mode": {
    "name": "ipython",
    "version": 3
   },
   "file_extension": ".py",
   "mimetype": "text/x-python",
   "name": "python",
   "nbconvert_exporter": "python",
   "pygments_lexer": "ipython3",
   "version": "3.12.8"
  }
 },
 "nbformat": 4,
 "nbformat_minor": 5
}

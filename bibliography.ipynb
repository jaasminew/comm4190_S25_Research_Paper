{
 "cells": [
  {
   "cell_type": "markdown",
   "id": "65aa2abf-2a95-4481-9d90-068a4b5c957e",
   "metadata": {},
   "source": [
    "# Bibliography\n",
    "\n",
    "1. Brand, J., Israeli, A., & Ngwe, D. (2024). Using LLMs for market research (Harvard Business School Working Paper No. 23‑062). Harvard Business School. https://www.hbs.edu/ris/Publication%20Files/23-062_ed720ebc-ec4d-4bc3-a6ba-bad8cfbd9d51.pdf\n",
    "\n",
    "2. Deckker, D., & Sumanasekara, S. (2025). The rise of AI in digital advertising: Trends, challenges, and future directions. International Journal of Research Publication and Reviews, 6(3), 1788–1799. https://doi.org/10.55248/gengpi.6.0325.1162 \n",
    "\n",
    "3. Gao, B., Wang, Y., Xie, H., & Hu, Y. (2023). Artificial intelligence in advertising: Advancements, challenges, and ethical considerations in targeting, personalization, content creation, and ad optimization. SAGE Open, 13(4), Article 21582440231210759. https://doi.org/10.1177/21582440231210759\n",
    "\n",
    "4. Harkness, L., Robinson, K., Stein, E., & Wu, W. (2023, December 5). How generative AI can boost consumer marketing. McKinsey & Company. https://www.mckinsey.com/capabilities/growth-marketing-and-sales/our-insights/how-generative-ai-can-boost-consumer-marketing \n",
    "\n",
    "5. Matz, S. C., Teeny, J. D., Vaid, S. S., Peters, H., Harari, G. M., Cerf, M., et al. (2024). The potential of generative AI for personalized persuasion at scale. Scientific Reports, 14, Article 4692. https://doi.org/10.1038/s41598-024-53755-0 \n",
    "\n",
    "6. Osadchaya, E., Marder, B., Yule, J. A., Yau, A., Lavertu, L., Stylos, N., de Regt, A., Oliver, S., Angell, R., Gao, L., Qi, K., Zhang, W. Z., Zhang, Y., Li, J., & Alrabiah, S. (2024). To ChatGPT or not to ChatGPT: Navigating the paradoxes of generative AI in the advertising industry. Business Horizons, 67(5), 571–581. https://doi.org/10.1016/j.bushor.2024.05.002  \n",
    "\n",
    "7. Rodgers, J. (n.d.). ChatGPT marketing case studies: Examples of AI‑enhanced campaigns. Contentifai. Retrieved May 4, 2025, from https://www.contentifai.agency/chatgpt-marketing-case-studies/ \n",
    "\n",
    "8. Wang, M., Zhang, D., & Zhang, H. (2024). Large language models for market research: A data‑augmentation approach. SSRN. https://doi.org/10.2139/ssrn.5057769"
   ]
  },
  {
   "cell_type": "code",
   "execution_count": null,
   "id": "3cfec89d-2a4a-48a6-b2f3-0a43a80dc715",
   "metadata": {},
   "outputs": [],
   "source": []
  }
 ],
 "metadata": {
  "kernelspec": {
   "display_name": "Python 3-12 (COMM4190)",
   "language": "python",
   "name": "python3-12_comm4190"
  },
  "language_info": {
   "codemirror_mode": {
    "name": "ipython",
    "version": 3
   },
   "file_extension": ".py",
   "mimetype": "text/x-python",
   "name": "python",
   "nbconvert_exporter": "python",
   "pygments_lexer": "ipython3",
   "version": "3.12.8"
  }
 },
 "nbformat": 4,
 "nbformat_minor": 5
}
